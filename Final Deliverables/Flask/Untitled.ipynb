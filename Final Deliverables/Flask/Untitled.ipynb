{
 "cells": [
  {
   "cell_type": "code",
   "execution_count": null,
   "id": "9ea390f7",
   "metadata": {},
   "outputs": [
    {
     "name": "stdout",
     "output_type": "stream",
     "text": [
      "Loaded model from disk\n",
      " * Serving Flask app \"__main__\" (lazy loading)\n",
      " * Environment: production\n",
      "\u001b[31m   WARNING: This is a development server. Do not use it in a production deployment.\u001b[0m\n",
      "\u001b[2m   Use a production WSGI server instead.\u001b[0m\n",
      " * Debug mode: off\n"
     ]
    },
    {
     "name": "stderr",
     "output_type": "stream",
     "text": [
      " * Running on http://127.0.0.1:5000/ (Press CTRL+C to quit)\n",
      "127.0.0.1 - - [18/Nov/2022 11:57:49] \"GET / HTTP/1.1\" 200 -\n",
      "127.0.0.1 - - [18/Nov/2022 11:57:51] \"GET /static/css/main.css HTTP/1.1\" 304 -\n",
      "127.0.0.1 - - [18/Nov/2022 11:57:53] \"GET /favicon.ico HTTP/1.1\" 404 -\n",
      "127.0.0.1 - - [18/Nov/2022 12:06:10] \"GET /image1 HTTP/1.1\" 200 -\n",
      "127.0.0.1 - - [18/Nov/2022 12:06:12] \"GET /static/js/main.js HTTP/1.1\" 304 -\n"
     ]
    },
    {
     "name": "stdout",
     "output_type": "stream",
     "text": [
      "1/1 [==============================] - 3s 3s/step\n",
      "prediction [0]\n",
      "APPLES\n"
     ]
    },
    {
     "name": "stderr",
     "output_type": "stream",
     "text": [
      "127.0.0.1 - - [18/Nov/2022 12:06:58] \"POST /predict HTTP/1.1\" 200 -\n",
      "127.0.0.1 - - [18/Nov/2022 12:06:58] \"GET /static/style.css HTTP/1.1\" 404 -\n"
     ]
    },
    {
     "name": "stdout",
     "output_type": "stream",
     "text": [
      "{\"items\": [{\"sugar_g\": 10.3, \"fiber_g\": 2.4, \"serving_size_g\": 100.0, \"sodium_mg\": 1, \"name\": \"apples\", \"potassium_mg\": 11, \"fat_saturated_g\": 0.0, \"fat_total_g\": 0.2, \"calories\": 53.4, \"cholesterol_mg\": 0, \"protein_g\": 0.3, \"carbohydrates_total_g\": 13.8}]}\n",
      "[{'sugar_g': 10.3, 'fiber_g': 2.4, 'serving_size_g': 100.0, 'sodium_mg': 1, 'name': 'apples', 'potassium_mg': 11, 'fat_saturated_g': 0.0, 'fat_total_g': 0.2, 'calories': 53.4, 'cholesterol_mg': 0, 'protein_g': 0.3, 'carbohydrates_total_g': 13.8}]\n",
      "1/1 [==============================] - 4s 4s/step\n",
      "prediction [1]\n",
      "BANANA\n",
      "{\"items\": [{\"sugar_g\": 12.3, \"fiber_g\": 2.6, \"serving_size_g\": 100.0, \"sodium_mg\": 1, \"name\": \"banana\", \"potassium_mg\": 22, \"fat_saturated_g\": 0.1, \"fat_total_g\": 0.3, \"calories\": 89.4, \"cholesterol_mg\": 0, \"protein_g\": 1.1, \"carbohydrates_total_g\": 23.2}]}\n",
      "[{'sugar_g': 12.3, 'fiber_g': 2.6, 'serving_size_g': 100.0, 'sodium_mg': 1, 'name': 'banana', 'potassium_mg': 22, 'fat_saturated_g': 0.1, 'fat_total_g': 0.3, 'calories': 89.4, 'cholesterol_mg': 0, 'protein_g': 1.1, 'carbohydrates_total_g': 23.2}]\n"
     ]
    },
    {
     "name": "stderr",
     "output_type": "stream",
     "text": [
      "127.0.0.1 - - [18/Nov/2022 12:59:57] \"POST /predict HTTP/1.1\" 200 -\n",
      "127.0.0.1 - - [18/Nov/2022 12:59:58] \"GET /static/style.css HTTP/1.1\" 404 -\n"
     ]
    },
    {
     "name": "stdout",
     "output_type": "stream",
     "text": [
      "1/1 [==============================] - 2s 2s/step\n",
      "prediction [4]\n",
      "WATERMELON\n"
     ]
    },
    {
     "name": "stderr",
     "output_type": "stream",
     "text": [
      "127.0.0.1 - - [18/Nov/2022 13:00:18] \"POST /predict HTTP/1.1\" 200 -\n"
     ]
    },
    {
     "name": "stdout",
     "output_type": "stream",
     "text": [
      "{\"items\": [{\"sugar_g\": 6.2, \"fiber_g\": 0.4, \"serving_size_g\": 100.0, \"sodium_mg\": 0, \"name\": \"watermelon\", \"potassium_mg\": 10, \"fat_saturated_g\": 0.0, \"fat_total_g\": 0.1, \"calories\": 30.3, \"cholesterol_mg\": 0, \"protein_g\": 0.6, \"carbohydrates_total_g\": 7.4}]}\n",
      "[{'sugar_g': 6.2, 'fiber_g': 0.4, 'serving_size_g': 100.0, 'sodium_mg': 0, 'name': 'watermelon', 'potassium_mg': 10, 'fat_saturated_g': 0.0, 'fat_total_g': 0.1, 'calories': 30.3, 'cholesterol_mg': 0, 'protein_g': 0.6, 'carbohydrates_total_g': 7.4}]\n"
     ]
    },
    {
     "name": "stderr",
     "output_type": "stream",
     "text": [
      "127.0.0.1 - - [18/Nov/2022 13:00:19] \"GET /static/style.css HTTP/1.1\" 404 -\n"
     ]
    },
    {
     "name": "stdout",
     "output_type": "stream",
     "text": [
      "1/1 [==============================] - 0s 93ms/step\n",
      "prediction [2]\n",
      "ORANGE\n"
     ]
    },
    {
     "name": "stderr",
     "output_type": "stream",
     "text": [
      "127.0.0.1 - - [18/Nov/2022 13:01:11] \"POST /predict HTTP/1.1\" 200 -\n",
      "127.0.0.1 - - [18/Nov/2022 13:01:11] \"GET /static/style.css HTTP/1.1\" 404 -\n"
     ]
    },
    {
     "name": "stdout",
     "output_type": "stream",
     "text": [
      "{\"items\": [{\"sugar_g\": 8.4, \"fiber_g\": 2.2, \"serving_size_g\": 100.0, \"sodium_mg\": 1, \"name\": \"orange\", \"potassium_mg\": 23, \"fat_saturated_g\": 0.0, \"fat_total_g\": 0.1, \"calories\": 50.4, \"cholesterol_mg\": 0, \"protein_g\": 0.9, \"carbohydrates_total_g\": 12.4}]}\n",
      "[{'sugar_g': 8.4, 'fiber_g': 2.2, 'serving_size_g': 100.0, 'sodium_mg': 1, 'name': 'orange', 'potassium_mg': 23, 'fat_saturated_g': 0.0, 'fat_total_g': 0.1, 'calories': 50.4, 'cholesterol_mg': 0, 'protein_g': 0.9, 'carbohydrates_total_g': 12.4}]\n"
     ]
    }
   ],
   "source": [
    "from flask import Flask,render_template,request\n",
    "# Flask-It is our framework which we are going to use to run/serve our application.\n",
    "#request-for accessing file which was uploaded by the user on our application.\n",
    "import os\n",
    "import numpy as np #used for numerical analysis\n",
    "from tensorflow.keras.models import load_model#to load our trained model\n",
    "from tensorflow.keras.preprocessing import image\n",
    "import requests\n",
    "\n",
    "\n",
    "app = Flask(__name__,template_folder=\"templates\") # initializing a flask app\n",
    "# Loading the model\n",
    "model=load_model('fruit.h5')\n",
    "print(\"Loaded model from disk\")\n",
    "\n",
    "\n",
    "@app.route('/')# route to display the home page\n",
    "def home():\n",
    "    return render_template('home.html')#rendering the home page\n",
    "\n",
    "@app.route('/image1',methods=['GET','POST'])# routes to the index html\n",
    "def image1():\n",
    "    return render_template(\"image.html\")\n",
    "\n",
    "\n",
    "\n",
    "@app.route('/predict',methods=['GET', 'POST'])# route to show the predictions in a web UI\n",
    "def launch():\n",
    "    if request.method=='POST':\n",
    "        f=request.files['file'] #requesting the file\n",
    "        basepath=os.path.dirname('__file__')#storing the file directory\n",
    "        filepath=os.path.join(basepath,\"uploads\",f.filename)#storing the file in uploads folder\n",
    "        f.save(filepath)#saving the file\n",
    "        \n",
    "        img=image.load_img(filepath,target_size=(64,64)) #load and reshaping the image\n",
    "        x=image.img_to_array(img)#converting image to an array\n",
    "        x=np.expand_dims(x,axis=0)#changing the dimensions of the image\n",
    "\n",
    "        pred=np.argmax(model.predict(x), axis=1)\n",
    "        print(\"prediction\",pred)#printing the prediction\n",
    "        index=['APPLES','BANANA','ORANGE','PINEAPPLE','WATERMELON']\n",
    "        \n",
    "        result=str(index[pred[0]])\n",
    "                    \n",
    "        x=result\n",
    "        print(x)\n",
    "        result=nutrition(result)\n",
    "        print(result)\n",
    "        \n",
    "        return render_template(\"0.html\",showcase=(result),showcase1=(x))\n",
    "def nutrition(index):\n",
    "\n",
    "\n",
    "    url = \"https://calorieninjas.p.rapidapi.com/v1/nutrition\"\n",
    "    \n",
    "    querystring = {\"query\":index}\n",
    "    \n",
    "    headers = {\n",
    "        'x-rapidapi-key': \"5d797ab107mshe668f26bd044e64p1ffd34jsnf47bfa9a8ee4\",\n",
    "        'x-rapidapi-host': \"calorieninjas.p.rapidapi.com\"\n",
    "        }\n",
    "    \n",
    "    response = requests.request(\"GET\", url, headers=headers, params=querystring)\n",
    "    \n",
    "    print(response.text)     \n",
    "    return response.json()['items']\n",
    "if __name__ == \"__main__\":\n",
    "   # running the app\n",
    "    app.run(debug=False)\n"
   ]
  },
  {
   "cell_type": "code",
   "execution_count": null,
   "id": "f09ed417",
   "metadata": {},
   "outputs": [],
   "source": []
  },
  {
   "cell_type": "code",
   "execution_count": null,
   "id": "b6385455",
   "metadata": {},
   "outputs": [],
   "source": []
  }
 ],
 "metadata": {
  "kernelspec": {
   "display_name": "Python 3 (ipykernel)",
   "language": "python",
   "name": "python3"
  },
  "language_info": {
   "codemirror_mode": {
    "name": "ipython",
    "version": 3
   },
   "file_extension": ".py",
   "mimetype": "text/x-python",
   "name": "python",
   "nbconvert_exporter": "python",
   "pygments_lexer": "ipython3",
   "version": "3.9.13"
  }
 },
 "nbformat": 4,
 "nbformat_minor": 5
}
